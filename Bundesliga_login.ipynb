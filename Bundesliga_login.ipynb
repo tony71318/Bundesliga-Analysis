{
 "cells": [
  {
   "cell_type": "code",
   "execution_count": null,
   "metadata": {},
   "outputs": [],
   "source": [
    "import requests, json, time, os\n",
    "from lxml import html\n",
    "from bs4 import BeautifulSoup\n",
    "import pandas as pd\n",
    "import pickle"
   ]
  },
  {
   "cell_type": "code",
   "execution_count": null,
   "metadata": {},
   "outputs": [],
   "source": [
    "# Global Variable\n",
    "DELAY_SECONDS = 2"
   ]
  },
  {
   "cell_type": "markdown",
   "metadata": {},
   "source": [
    "## 登入\n",
    "* 登入後重複用 `session_request` 去爬其他資料"
   ]
  },
  {
   "cell_type": "code",
   "execution_count": null,
   "metadata": {},
   "outputs": [],
   "source": [
    "EMAIL = 'tony71318@yahoo.com.tw'\n",
    "PASSWORD = 'Bot12345'\n",
    "\n",
    "LOGIN_URL = 'https://www.bundesliga.com/en/bundesliga/login/'\n",
    "api_key = '3_tQWqB95PCJiqCeljbI7N3oOEiX_q4-wobViZ6EYqtb6vYsZDYQqgPT1Z4O6btnKh'"
   ]
  },
  {
   "cell_type": "code",
   "execution_count": null,
   "metadata": {},
   "outputs": [],
   "source": [
    "headers = {\n",
    "    'Cookie': 'gmid=J8dn6yAqHjxSZ8kTmbjmVno6Dn3eBcM2GCcc9wR95jI=; hasGmid=ver2; apiDomain_3_dmGIVZ011qA426N4BdhbPVrAqPj8Ve_z6Y1OIC9wOXz2bvKj37HhXXqcaKsESJIE=eu1.gigya.com; ucid=tIzK1ZQCy7sH8VQXbT7itg',\n",
    "    'Referer': 'https://cdns.eu1.gigya.com/gs/webSdk/Api.aspx?apiKey=3_tQWqB95PCJiqCeljbI7N3oOEiX_q4-wobViZ6EYqtb6vYsZDYQqgPT1Z4O6btnKh&version=latest',\n",
    "    'User-Agent': 'Mozilla/5.0 (Windows NT 10.0; Win64; x64)'\n",
    "                   'AppleWebKit/537.36 (KHTML, like Gecko)'\n",
    "                   'Chrome/69.0.3497.92 Safari/537.36',\n",
    "}"
   ]
  },
  {
   "cell_type": "code",
   "execution_count": null,
   "metadata": {},
   "outputs": [],
   "source": [
    "payload = {\n",
    "    'loginID': EMAIL,\n",
    "    'password': PASSWORD,\n",
    "    'sessionExpiration': '0',\n",
    "    'targetEnv': 'jssdk',\n",
    "    'include': 'profile,data,emails,subscriptions,preferences,',\n",
    "    'includeUserInfo': 'true',\n",
    "    'loginMode': 'standard',\n",
    "    'lang': 'en',\n",
    "    'APIKey': api_key,\n",
    "    'source': 'showScreenSet',\n",
    "    'sdk': 'js_latest',\n",
    "    'authMode': 'cookie',\n",
    "    'pageURL': 'https://www.bundesliga.com/en/bundesliga/login/',\n",
    "    'format': 'jsonp',\n",
    "    'callback': 'gigya.callback',\n",
    "    'context': 'R1396585807',\n",
    "    'utf8': '&#x2713'\n",
    "}"
   ]
  },
  {
   "cell_type": "code",
   "execution_count": null,
   "metadata": {},
   "outputs": [],
   "source": [
    "session_requests = requests.session()\n",
    "result = session_requests.post(LOGIN_URL, data = payload, headers = headers)\n",
    "result"
   ]
  },
  {
   "cell_type": "markdown",
   "metadata": {},
   "source": [
    "---\n",
    "## 得分排行榜\n",
    "* 回傳: json格式\n",
    "    * Metadata\n",
    "    * Players\n",
    "    * Rankings\n",
    "    * Teams\n",
    "    \n",
    "**TODO: 網頁表格 是從這個json組出來的 交給你想辦法 (*Not* DONE)**"
   ]
  },
  {
   "cell_type": "code",
   "execution_count": null,
   "metadata": {},
   "outputs": [],
   "source": [
    "headers = {\n",
    "    'Referer': 'https://www.bundesliga.com/en/stats/bundesliga/current-season/all-matchdays/player-stats/goals',\n",
    "    'User-Agent': 'Mozilla/5.0 (Windows NT 10.0; Win64; x64)' \n",
    "    'AppleWebKit/537.36 (KHTML, like Gecko)'\n",
    "    'Chrome/69.0.3497.92 Safari/537.36',\n",
    "    'x-api-key': 'HEEyMDwtUkR8FUbSj8bx8jqy'\n",
    "}"
   ]
  },
  {
   "cell_type": "code",
   "execution_count": null,
   "metadata": {},
   "outputs": [],
   "source": [
    "api_url = 'https://xthokrkm7l.execute-api.eu-central-1.amazonaws.com/Prod/ranking?feedType=Goals&timeScope=Season&dataScope=Competition&competitionId=DFL-COM-000001&seasonId=DFL-SEA-0001K2&matchDayId=DFL-DAY-004BPN&rankingType=GOALS&rankingScope=PLAYER'\n",
    "url = session_requests.get(api_url, headers = headers) \n",
    "score_json = json.loads(url.text)\n",
    "score_json"
   ]
  },
  {
   "cell_type": "code",
   "execution_count": null,
   "metadata": {},
   "outputs": [],
   "source": [
    "# 將三個資料存成df(暫時不知道可以怎麼用 先不存)\n",
    "players = pd.DataFrame(score_json['Players'])\n",
    "rankings = pd.DataFrame(score_json['Ranking'])\n",
    "teams = pd.DataFrame(score_json['Teams'])"
   ]
  },
  {
   "cell_type": "markdown",
   "metadata": {},
   "source": [
    "---\n",
    "## Matchday 1-34 2017/18\n",
    "[Target Link](https://www.bundesliga.com/en/bundesliga/matchday/2018-2019/)\n",
    "* 整理成df格式\n",
    "* pickle檔案為保留型態的檔案(之後分析好用)\n",
    "\n",
    "** 待解決 **\n",
    "* 找出有用的columns(不急)"
   ]
  },
  {
   "cell_type": "code",
   "execution_count": null,
   "metadata": {},
   "outputs": [],
   "source": [
    "# 抓matchday1~34 2017/18 抓完delay一會 避免被Ban\n",
    "matchday = {}\n",
    "for i in range(34):\n",
    "    api_url = 'https://www.bundesliga.com/fsSolrSearch/search?wt=json&rows=150&sort=kickoffTimeMS_l%20asc&q=indexName%3ASyncMatches%20AND%20competitionID_tlc%3ADFL-COM-000001%20AND%20seasonID_tlc%3A2017%2F2018%20AND%20matchday_l%3A'+str(i+1)\n",
    "    url = session_requests.get(api_url, headers = headers) \n",
    "    matchday[i] = json.loads(url.text)\n",
    "    time.sleep(DELAY_SECONDS)"
   ]
  },
  {
   "cell_type": "code",
   "execution_count": null,
   "metadata": {},
   "outputs": [],
   "source": [
    "df_matchday = pd.DataFrame(matchday[0]['response']['docs'])\n",
    "for i in range(1,34):\n",
    "    df_matchday = pd.concat([df_matchday,pd.DataFrame(matchday[i]['response']['docs'])])"
   ]
  },
  {
   "cell_type": "code",
   "execution_count": null,
   "metadata": {},
   "outputs": [],
   "source": [
    "# 把資料存起來\n",
    "with open('Data/matchday.pickle', 'wb') as handle:\n",
    "    pickle.dump(df_matchday, handle, protocol=pickle.HIGHEST_PROTOCOL)"
   ]
  },
  {
   "cell_type": "markdown",
   "metadata": {},
   "source": [
    "### 開啟方式如下\n",
    "```\n",
    "with open('Data/matchday.pickle', 'rb') as handle:\n",
    "    df_matchday = pickle.load(handle)\n",
    "```\n",
    "\n",
    "---"
   ]
  },
  {
   "cell_type": "markdown",
   "metadata": {},
   "source": [
    "## TODO\n",
    "* 希望可以用程式直接連button作後續的處理\n",
    "> Jac: 第一個就是希望 可以更自動一點 像我原本的程式裡的那個網址最後是+str()因為有找到規律 但是不知道有沒有方法讓他去抓matchday1的那個下拉選單去改\n",
    "以後也可能要做 點進每場比賽的動作 總不能34天每場都自己點進去再抓ㄅ\n",
    "* 連結單場比賽獲得單場各項數據(連不到可以用的html)\n",
    "> Jac: 第二個 就是 match day 不是會有一堆比賽 你可以點進去任何一場看細節 在match stats裡面有很多讚讚的資料 但是我抓不下來"
   ]
  },
  {
   "cell_type": "markdown",
   "metadata": {},
   "source": [
    "---\n",
    "# Matchday statistics\n",
    "    從Matchday獲得當日比賽的資訊\n",
    "    從中抓取每場比賽的詳細數據\n",
    "    \n",
    "* Function: getPlayerStatisticsFromSoup(soup)\n",
    "    * Input: api 抓回來的 soup\n",
    "    * Output: 把 df 存成 pickle\n",
    "        * Data/season/start_date/event_key/team_full_name/player_stats.pickle\n",
    "        * 例: Data/2017_2018/20170818/168428/Bayer 04 Leverkusen/player_stats.pickle\n",
    "        \n",
    "> Tony: 一次抓34天要頗久的 而且還只是球員數據那個api"
   ]
  },
  {
   "cell_type": "code",
   "execution_count": null,
   "metadata": {},
   "outputs": [],
   "source": [
    "def getPlayerStatisticsFromSoup(soup):\n",
    "    \n",
    "    event_key = soup.find('event-metadata')['event-key']\n",
    "    start_date = soup.find('event-metadata')['start-date-time'][:8]\n",
    "    year = start_date[:4]\n",
    "    month = start_date[4:6]\n",
    "    # 判斷是今年 還是 前一年的比賽\n",
    "    year = str(int(year)-1) if int(month) < 7 else year\n",
    "    season = year + '_' + str(int(year)+1)\n",
    "    \n",
    "    for team in soup.find_all('team'):\n",
    "        team_full_name = team.find('team-metadata').find('name')['full']\n",
    "\n",
    "        # Variable initialization before each loop\n",
    "        full_name, minutes_played, score = [],[],[]\n",
    "        rating_value_goalie, rating_value_defenseman, rating_value_mid_fielder, rating_value_forward = [],[],[],[]\n",
    "        duels_won, duels_won_ground, duels_won_header, duels_lost_ground, duels_lost_header, duels_lost, duels_won_percentage = [],[],[],[],[],[],[]\n",
    "        passes_completed, passes_failed, passes_completions_percentage, passes_failed_percentage, passes, passes_short_total, balls_touched = [],[],[],[],[],[],[]\n",
    "        tracking_distance, tracking_average_speed, tracking_max_speed, tracking_sprints, tracking_sprints_distance, tracking_fast_runs, tracking_fast_runs_distance, tracking_offensive_runs, tracking_offensive_runs_distance = [],[],[],[],[],[],[],[],[]\n",
    "        dfl_distance, dfl_average_speed, dfl_max_speed = [],[],[]\n",
    "        saves, catches_punches_crosses, catches_punches_corners, goals_against_total, penalty_saves, clear_cut_chance = [],[],[],[],[],[]\n",
    "        shots_total, shots_on_goal_total, shots_off_post, offsides, corner_kicks, crosses, assists_total, shot_assists, freekicks, miss_chance, throw_in, punt, shots_penalty_shot_scored, shots_penalty_shot_missed, dfl_assists_total, shots_total_outside_box, shots_total_inside_box, shots_foot_inside_box, shots_foot_outside_box, shots_total_header = [],[],[],[],[],[],[],[],[],[],[],[],[],[],[],[],[],[],[],[]\n",
    "        fouls_commited, fouls_suffered, yellow_red_cards, red_cards, yellow_cards, penalty_caused = [],[],[],[],[],[]\n",
    "\n",
    "        for player in team.find_all('player'):\n",
    "            player_metadata = player.find('player-metadata')\n",
    "            player_stats = player.find('player-stats')\n",
    "            player_stats_soccer = player.find('player-stats-soccer')\n",
    "            stats_soccer_defensive = player_stats_soccer.find('stats-soccer-defensive')\n",
    "            stats_soccer_offensive = player_stats_soccer.find('stats-soccer-offensive')\n",
    "            stats_soccer_foul = player_stats_soccer.find('stats-soccer-foul') \n",
    "\n",
    "            full_name.append(player_metadata.find('name')['full'])\n",
    "            minutes_played.append(player_stats['minutes-played'])\n",
    "            score.append(player_stats['score'])\n",
    "\n",
    "            rating_value_goalie.append(player_stats.find('rating')['imp:rating-value-goalie'])\n",
    "            rating_value_defenseman.append(player_stats.find('rating')['imp:rating-value-defenseman'])\n",
    "            rating_value_mid_fielder.append(player_stats.find('rating')['imp:rating-value-mid-fielder'])\n",
    "            rating_value_forward.append(player_stats.find('rating')['imp:rating-value-forward'])\n",
    "\n",
    "            duels_won.append(player_stats_soccer['imp:duels-won'])\n",
    "            duels_won_ground.append(player_stats_soccer['imp:duels-won-ground'])\n",
    "            duels_won_header.append(player_stats_soccer['imp:duels-won-header'])\n",
    "            duels_lost_ground.append(player_stats_soccer['imp:duels-lost-ground'])\n",
    "            duels_lost_header.append(player_stats_soccer['imp:duels-lost-header'])\n",
    "            duels_lost.append(player_stats_soccer['imp:duels-lost'])\n",
    "            duels_won_percentage.append(player_stats_soccer['imp:duels-won-percentage'])\n",
    "\n",
    "            passes_completed.append(player_stats_soccer['imp:passes-completed'])\n",
    "            passes_failed.append(player_stats_soccer['imp:passes-failed'])\n",
    "            passes_completions_percentage.append(player_stats_soccer['imp:passes-completions-percentage'])\n",
    "            passes_failed_percentage.append(player_stats_soccer['imp:passes-failed-percentage'])\n",
    "            passes.append(player_stats_soccer['imp:passes'])\n",
    "            passes_short_total.append(player_stats_soccer['imp:passes-short-total'])\n",
    "            balls_touched.append(player_stats_soccer['imp:balls-touched'])\n",
    "\n",
    "            tracking_distance.append(player_stats_soccer['imp:tracking-distance'])\n",
    "            tracking_average_speed.append(player_stats_soccer['imp:tracking-average-speed'])\n",
    "            tracking_max_speed.append(player_stats_soccer['imp:tracking-max-speed'])\n",
    "            tracking_sprints.append(player_stats_soccer['imp:tracking-sprints'])\n",
    "            tracking_sprints_distance.append(player_stats_soccer['imp:tracking-sprints-distance'])\n",
    "            tracking_fast_runs.append(player_stats_soccer['imp:tracking-fast-runs'])\n",
    "            tracking_fast_runs_distance.append(player_stats_soccer['imp:tracking-fast-runs-distance'])\n",
    "            tracking_offensive_runs.append(player_stats_soccer['imp:tracking-offensive-runs'])\n",
    "            tracking_offensive_runs_distance.append(player_stats_soccer['imp:tracking-offensive-runs-distance'])\n",
    "\n",
    "            dfl_distance.append(player_stats_soccer['dfl-distance'])\n",
    "            dfl_average_speed.append(player_stats_soccer['dfl-average-speed'])\n",
    "            dfl_max_speed.append(player_stats_soccer['dfl-max-speed'])\n",
    "\n",
    "            saves.append(stats_soccer_defensive['saves'])\n",
    "            catches_punches_crosses.append(stats_soccer_defensive['imp:catches-punches-crosses'])\n",
    "            catches_punches_corners.append(stats_soccer_defensive['imp:catches-punches-corners'])\n",
    "            goals_against_total.append(stats_soccer_defensive['goals-against-total'])\n",
    "            penalty_saves.append(stats_soccer_defensive['imp:penalty-saves'])\n",
    "            clear_cut_chance.append(stats_soccer_defensive['imp:clear-cut-chance'])\n",
    "\n",
    "            shots_total.append(stats_soccer_offensive['shots-total'])\n",
    "            shots_on_goal_total.append(stats_soccer_offensive['shots-on-goal-total'])\n",
    "            shots_off_post.append(stats_soccer_offensive['imp:shots-off-post'])\n",
    "            offsides.append(stats_soccer_offensive['offsides'])\n",
    "            corner_kicks.append(stats_soccer_offensive['corner-kicks'])\n",
    "            crosses.append(stats_soccer_offensive['imp:crosses'])\n",
    "            assists_total.append(stats_soccer_offensive['assists-total'])\n",
    "            shot_assists.append(stats_soccer_offensive['imp:shot-assists'])\n",
    "            freekicks.append(stats_soccer_offensive['imp:freekicks'])\n",
    "            miss_chance.append(stats_soccer_offensive['imp:miss-chance'])\n",
    "            throw_in.append(stats_soccer_offensive['imp:throw-in'])\n",
    "            punt.append(stats_soccer_offensive['imp:punt'])\n",
    "            shots_penalty_shot_scored.append(stats_soccer_offensive['shots-penalty-shot-scored'])\n",
    "            shots_penalty_shot_missed.append(stats_soccer_offensive['shots-penalty-shot-missed'])\n",
    "            dfl_assists_total.append(stats_soccer_offensive['dfl-assists-total'])\n",
    "            shots_total_outside_box.append(stats_soccer_offensive['imp:shots-total-outside-box'])\n",
    "            shots_total_inside_box.append(stats_soccer_offensive['imp:shots-total-inside-box'])\n",
    "            shots_foot_inside_box.append(stats_soccer_offensive['imp:shots-foot-inside-box'])\n",
    "            shots_foot_outside_box.append(stats_soccer_offensive['imp:shots-foot-outside-box'])\n",
    "            shots_total_header.append(stats_soccer_offensive['imp:shots-total-header'])\n",
    "\n",
    "            fouls_commited.append(stats_soccer_foul['fouls-commited'])\n",
    "            fouls_suffered.append(stats_soccer_foul['fouls-suffered'])\n",
    "            yellow_red_cards.append(stats_soccer_foul['imp:yellow-red-cards'])\n",
    "            red_cards.append(stats_soccer_foul['imp:red-cards'])\n",
    "            yellow_cards.append(stats_soccer_foul['imp:yellow-cards'])\n",
    "            penalty_caused.append(stats_soccer_foul['penalty-caused'])\n",
    "\n",
    "        keys = ['full_name','minutes_played','score','rating_value_goalie','rating_value_defenseman','rating_value_mid_fielder','rating_value_forward','duels_won','duels_won_ground','duels_won_header','duels_lost_ground','duels_lost_header','duels_lost','duels_won_percentage','passes_completed','passes_failed','passes_completions_percentage','passes_failed_percentage','passes','passes_short_total','balls_touched','tracking_distance','tracking_average_speed','tracking_max_speed','tracking_sprints','tracking_sprints_distance','tracking_fast_runs','tracking_fast_runs_distance','tracking_offensive_runs','tracking_offensive_runs_distance','dfl_distance','dfl_average_speed','dfl_max_speed','saves','catches_punches_crosses','catches_punches_corners','goals_against_total','penalty_saves','clear_cut_chance','shots_total','shots_on_goal_total','shots_off_post','offsides','corner_kicks','crosses','assists_total','shot_assists','freekicks','miss_chance','throw_in','punt','shots_penalty_shot_scored','shots_penalty_shot_missed','dfl_assists_total','shots_total_outside_box','shots_total_inside_box','shots_foot_inside_box','shots_foot_outside_box','shots_total_header','fouls_commited','fouls_suffered','yellow_red_cards','red_cards','yellow_cards','penalty_caused']\n",
    "        player_table_value = [full_name,minutes_played,score,rating_value_goalie,rating_value_defenseman,rating_value_mid_fielder,rating_value_forward,duels_won,duels_won_ground,duels_won_header,duels_lost_ground,duels_lost_header,duels_lost,duels_won_percentage,passes_completed,passes_failed,passes_completions_percentage,passes_failed_percentage,passes,passes_short_total,balls_touched,tracking_distance,tracking_average_speed,tracking_max_speed,tracking_sprints,tracking_sprints_distance,tracking_fast_runs,tracking_fast_runs_distance,tracking_offensive_runs,tracking_offensive_runs_distance,dfl_distance,dfl_average_speed,dfl_max_speed,saves,catches_punches_crosses,catches_punches_corners,goals_against_total,penalty_saves,clear_cut_chance,shots_total,shots_on_goal_total,shots_off_post,offsides,corner_kicks,crosses,assists_total,shot_assists,freekicks,miss_chance,throw_in,punt,shots_penalty_shot_scored,shots_penalty_shot_missed,dfl_assists_total,shots_total_outside_box,shots_total_inside_box,shots_foot_inside_box,shots_foot_outside_box,shots_total_header,fouls_commited,fouls_suffered,yellow_red_cards,red_cards,yellow_cards,penalty_caused]\n",
    "        player_table = dict(zip(keys,player_table_value))\n",
    "\n",
    "        player_df = pd.DataFrame(player_table)\n",
    "        \n",
    "        filename = 'Data/' + season +  '/' + start_date + '/' + event_key + '/' + team_full_name + '/' + 'player_stats.pickle'\n",
    "        os.makedirs(os.path.dirname(filename), exist_ok=True)\n",
    "        with open(filename, 'wb') as handle:\n",
    "            pickle.dump(df_matchday, handle, protocol=pickle.HIGHEST_PROTOCOL)"
   ]
  },
  {
   "cell_type": "markdown",
   "metadata": {},
   "source": [
    "---"
   ]
  },
  {
   "cell_type": "code",
   "execution_count": null,
   "metadata": {},
   "outputs": [],
   "source": [
    "# 抓matchday1~34 2017/18 抓完delay一會 避免被Ban\n",
    "matchdays = {}\n",
    "for i in range(34):\n",
    "    api_url = 'https://www.bundesliga.com/fsSolrSearch/search?wt=json&rows=150&sort=kickoffTimeMS_l%20asc&q=indexName%3ASyncMatches%20AND%20competitionID_tlc%3ADFL-COM-000001%20AND%20seasonID_tlc%3A2017%2F2018%20AND%20matchday_l%3A'+str(i+1)\n",
    "    url = session_requests.get(api_url, headers = headers) \n",
    "    matchdays[i] = json.loads(url.text)\n",
    "    time.sleep(DELAY_SECONDS)\n",
    "    if i % 5 == 0 and i != 0:\n",
    "        print('Finished' + i + 'days')\n",
    "print('All Finished!')"
   ]
  },
  {
   "cell_type": "code",
   "execution_count": null,
   "metadata": {},
   "outputs": [],
   "source": [
    "# 抓 matchday 裡的 每一場比賽數據\n",
    "for key,matchday in matchdays.items():\n",
    "    print('Start to get matchday ' + str(key+1))\n",
    "    \n",
    "    for game in matchday['response']['docs']:   \n",
    "        ID = game['dlProviderID_tlc']\n",
    "        year = '2017'\n",
    "        \n",
    "        print('    Start to get game ' + ID)\n",
    "        api_url = 'https://www.bundesliga.com/data/feed/51/' + year + '/player_stats/player_stats_' + ID + '.xml'\n",
    "        url = session_requests.get(api_url, headers = headers) \n",
    "        soup = BeautifulSoup(url.content,'xml')\n",
    "        time.sleep(DELAY_SECONDS)\n",
    "        \n",
    "        getPlayerStatisticsFromSoup(soup)\n",
    "        \n",
    "print('All Finished!')        "
   ]
  },
  {
   "cell_type": "markdown",
   "metadata": {},
   "source": [
    "---\n",
    "\n",
    "## TODO \n",
    "* 球隊相關數據 還沒抓"
   ]
  },
  {
   "cell_type": "code",
   "execution_count": null,
   "metadata": {},
   "outputs": [],
   "source": []
  }
 ],
 "metadata": {
  "kernelspec": {
   "display_name": "Python 3",
   "language": "python",
   "name": "python3"
  },
  "language_info": {
   "codemirror_mode": {
    "name": "ipython",
    "version": 3
   },
   "file_extension": ".py",
   "mimetype": "text/x-python",
   "name": "python",
   "nbconvert_exporter": "python",
   "pygments_lexer": "ipython3",
   "version": "3.6.5"
  }
 },
 "nbformat": 4,
 "nbformat_minor": 2
}
