{
 "cells": [
  {
   "cell_type": "code",
   "execution_count": null,
   "metadata": {},
   "outputs": [],
   "source": [
    "import requests, json\n",
    "from lxml import html\n",
    "from bs4 import BeautifulSoup\n",
    "import pandas as pd\n",
    "import pickle"
   ]
  },
  {
   "cell_type": "markdown",
   "metadata": {},
   "source": [
    "## 登入\n",
    "* 登入後重複用 `session_request` 去爬其他資料"
   ]
  },
  {
   "cell_type": "code",
   "execution_count": null,
   "metadata": {},
   "outputs": [],
   "source": [
    "EMAIL = 'tony71318@yahoo.com.tw'\n",
    "PASSWORD = 'Bot12345'\n",
    "\n",
    "LOGIN_URL = 'https://www.bundesliga.com/en/bundesliga/login/'\n",
    "api_key = '3_tQWqB95PCJiqCeljbI7N3oOEiX_q4-wobViZ6EYqtb6vYsZDYQqgPT1Z4O6btnKh'"
   ]
  },
  {
   "cell_type": "code",
   "execution_count": null,
   "metadata": {},
   "outputs": [],
   "source": [
    "headers = {\n",
    "    'Cookie': 'gmid=J8dn6yAqHjxSZ8kTmbjmVno6Dn3eBcM2GCcc9wR95jI=; hasGmid=ver2; apiDomain_3_dmGIVZ011qA426N4BdhbPVrAqPj8Ve_z6Y1OIC9wOXz2bvKj37HhXXqcaKsESJIE=eu1.gigya.com; ucid=tIzK1ZQCy7sH8VQXbT7itg',\n",
    "    'Referer': 'https://cdns.eu1.gigya.com/gs/webSdk/Api.aspx?apiKey=3_tQWqB95PCJiqCeljbI7N3oOEiX_q4-wobViZ6EYqtb6vYsZDYQqgPT1Z4O6btnKh&version=latest',\n",
    "    'User-Agent': 'Mozilla/5.0 (Windows NT 10.0; Win64; x64)'\n",
    "                   'AppleWebKit/537.36 (KHTML, like Gecko)'\n",
    "                   'Chrome/69.0.3497.92 Safari/537.36',\n",
    "}"
   ]
  },
  {
   "cell_type": "code",
   "execution_count": null,
   "metadata": {},
   "outputs": [],
   "source": [
    "payload = {\n",
    "    'loginID': EMAIL,\n",
    "    'password': PASSWORD,\n",
    "    'sessionExpiration': '0',\n",
    "    'targetEnv': 'jssdk',\n",
    "    'include': 'profile,data,emails,subscriptions,preferences,',\n",
    "    'includeUserInfo': 'true',\n",
    "    'loginMode': 'standard',\n",
    "    'lang': 'en',\n",
    "    'APIKey': api_key,\n",
    "    'source': 'showScreenSet',\n",
    "    'sdk': 'js_latest',\n",
    "    'authMode': 'cookie',\n",
    "    'pageURL': 'https://www.bundesliga.com/en/bundesliga/login/',\n",
    "    'format': 'jsonp',\n",
    "    'callback': 'gigya.callback',\n",
    "    'context': 'R1396585807',\n",
    "    'utf8': '&#x2713'\n",
    "}"
   ]
  },
  {
   "cell_type": "code",
   "execution_count": null,
   "metadata": {},
   "outputs": [],
   "source": [
    "session_requests = requests.session()\n",
    "result = session_requests.post(LOGIN_URL, data = payload, headers = headers)\n",
    "result"
   ]
  },
  {
   "cell_type": "markdown",
   "metadata": {},
   "source": [
    "## 得分排行榜\n",
    "* 回傳: json格式\n",
    "    * Metadata\n",
    "    * Players\n",
    "    * Rankings\n",
    "    * Teams\n",
    "    \n",
    "**TODO: 網頁表格 是從這個json組出來的 交給你想辦法(DONE)**"
   ]
  },
  {
   "cell_type": "code",
   "execution_count": null,
   "metadata": {},
   "outputs": [],
   "source": [
    "headers = {\n",
    "    'Referer': 'https://www.bundesliga.com/en/stats/bundesliga/current-season/all-matchdays/player-stats/goals',\n",
    "    'User-Agent': 'Mozilla/5.0 (Windows NT 10.0; Win64; x64)' \n",
    "    'AppleWebKit/537.36 (KHTML, like Gecko)'\n",
    "    'Chrome/69.0.3497.92 Safari/537.36',\n",
    "    'x-api-key': 'HEEyMDwtUkR8FUbSj8bx8jqy'\n",
    "}"
   ]
  },
  {
   "cell_type": "code",
   "execution_count": null,
   "metadata": {},
   "outputs": [],
   "source": [
    "api_url = 'https://xthokrkm7l.execute-api.eu-central-1.amazonaws.com/Prod/ranking?feedType=Goals&timeScope=Season&dataScope=Competition&competitionId=DFL-COM-000001&seasonId=DFL-SEA-0001K2&matchDayId=DFL-DAY-004BPN&rankingType=GOALS&rankingScope=PLAYER'\n",
    "url = session_requests.get(api_url, headers = headers) \n",
    "score_json = json.loads(url.text)\n",
    "score_json"
   ]
  },
  {
   "cell_type": "code",
   "execution_count": null,
   "metadata": {},
   "outputs": [],
   "source": [
    "# 將三個資料存成df(暫時不知道可以怎麼用 先不存)\n",
    "players = pd.DataFrame(score_json['Players'])\n",
    "rankings = pd.DataFrame(score_json['Ranking'])\n",
    "teams = pd.DataFrame(score_json['Teams'])"
   ]
  },
  {
   "cell_type": "markdown",
   "metadata": {},
   "source": [
    "## Matchday 1-34 2017/18\n",
    "* 整理成df格式\n",
    "* pickle檔案為保留型態的檔案(之後分析好用)\n",
    "\n",
    "** 待解決 **\n",
    "* 找出有用的columns(不急)"
   ]
  },
  {
   "cell_type": "code",
   "execution_count": null,
   "metadata": {},
   "outputs": [],
   "source": [
    "# 抓matchday1~34 2017/18\n",
    "matchday = {}\n",
    "for i in range(34):\n",
    "    api_url = 'https://www.bundesliga.com/fsSolrSearch/search?wt=json&rows=150&sort=kickoffTimeMS_l%20asc&q=indexName%3ASyncMatches%20AND%20competitionID_tlc%3ADFL-COM-000001%20AND%20seasonID_tlc%3A2017%2F2018%20AND%20matchday_l%3A'+str(i+1)\n",
    "    url = session_requests.get(api_url, headers = headers) \n",
    "    matchday[i] = json.loads(url.text)"
   ]
  },
  {
   "cell_type": "code",
   "execution_count": null,
   "metadata": {},
   "outputs": [],
   "source": [
    "df_matchday = pd.DataFrame(matchday[0]['response']['docs'])\n",
    "for i in range(1,34):\n",
    "    df_matchday = pd.concat([df_matchday,pd.DataFrame(matchday[i]['response']['docs'])])"
   ]
  },
  {
   "cell_type": "code",
   "execution_count": null,
   "metadata": {},
   "outputs": [],
   "source": [
    "# 把資料存起來\n",
    "with open('Data/matchday.pickle', 'wb') as handle:\n",
    "    pickle.dump(df_matchday, handle, protocol=pickle.HIGHEST_PROTOCOL)"
   ]
  },
  {
   "cell_type": "code",
   "execution_count": null,
   "metadata": {},
   "outputs": [],
   "source": [
    "# 開啟方式如下\n",
    "# with open('Data/matchday.pickle', 'rb') as handle:\n",
    "#     df_matchday = pickle.load(handle)"
   ]
  },
  {
   "cell_type": "markdown",
   "metadata": {},
   "source": [
    "## TODO\n",
    "* 希望可以用程式直接連button作後續的處理\n",
    "* 連結單場比賽獲得單場各項數據(連不到可以用的html)"
   ]
  },
  {
   "cell_type": "code",
   "execution_count": null,
   "metadata": {},
   "outputs": [],
   "source": [
    "# 找不到合適的api_url\n",
    "api_url = 'https://www.bundesliga.com/data/feed/51/2017/player_stats/player_stats_168428.xml?cb=380141'\n",
    "url = session_requests.get(api_url, headers = headers) \n",
    "# matchday = json.loads(url.text)\n",
    "# matchday\n",
    "soup = BeautifulSoup(url.content,'xml')\n",
    "soup"
   ]
  }
 ],
 "metadata": {
  "kernelspec": {
   "display_name": "Python 3",
   "language": "python",
   "name": "python3"
  },
  "language_info": {
   "codemirror_mode": {
    "name": "ipython",
    "version": 3
   },
   "file_extension": ".py",
   "mimetype": "text/x-python",
   "name": "python",
   "nbconvert_exporter": "python",
   "pygments_lexer": "ipython3",
   "version": "3.6.5"
  }
 },
 "nbformat": 4,
 "nbformat_minor": 2
}
