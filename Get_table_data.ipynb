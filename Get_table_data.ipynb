{
 "cells": [
  {
   "cell_type": "code",
   "execution_count": null,
   "metadata": {},
   "outputs": [],
   "source": [
    "import requests\n",
    "from bs4 import BeautifulSoup\n",
    "import pandas as pd"
   ]
  },
  {
   "cell_type": "code",
   "execution_count": null,
   "metadata": {},
   "outputs": [],
   "source": [
    "# 解析網址\n",
    "url = requests.get('http://global.espn.com/football/table/_/league/ger.1/season/2017') \n",
    "soup = BeautifulSoup(url.content,'lxml')"
   ]
  },
  {
   "cell_type": "code",
   "execution_count": null,
   "metadata": {},
   "outputs": [],
   "source": [
    "# initial varibles\n",
    "keys = ['team','game_played','wins','draws','loses','goal_for','goal_against',\n",
    "        'goal_difference','points']\n",
    "team = []\n",
    "game_played = []\n",
    "wins = []\n",
    "draws = []\n",
    "loses = []\n",
    "goal_for = []\n",
    "goal_against = []\n",
    "goal_difference = []\n",
    "points = []"
   ]
  },
  {
   "cell_type": "code",
   "execution_count": null,
   "metadata": {},
   "outputs": [],
   "source": [
    "# 找出html中一隊的block 提取table資料 做成dict\n",
    "for row in soup.find_all('tr'):\n",
    "    stats = row.find_all('td')\n",
    "    team.append(stats[0].find_all('span')[-1].text)\n",
    "    game_played.append(stats[1].text)\n",
    "    wins.append(stats[2].text)\n",
    "    draws.append(stats[3].text)\n",
    "    loses.append(stats[4].text)\n",
    "    goal_for.append(stats[5].text)\n",
    "    goal_against.append(stats[6].text)\n",
    "    goal_difference.append(stats[7].text)\n",
    "    points.append(stats[8].text)\n",
    "table_value = [team,game_played,wins,draws,loses,goal_for,goal_against,goal_difference,points]\n",
    "table = dict(zip(keys,table_value))\n",
    "table"
   ]
  },
  {
   "cell_type": "code",
   "execution_count": null,
   "metadata": {},
   "outputs": [],
   "source": [
    "pd.DataFrame(table)"
   ]
  },
  {
   "cell_type": "code",
   "execution_count": null,
   "metadata": {},
   "outputs": [],
   "source": []
  }
 ],
 "metadata": {
  "kernelspec": {
   "display_name": "Python 3",
   "language": "python",
   "name": "python3"
  },
  "language_info": {
   "codemirror_mode": {
    "name": "ipython",
    "version": 3
   },
   "file_extension": ".py",
   "mimetype": "text/x-python",
   "name": "python",
   "nbconvert_exporter": "python",
   "pygments_lexer": "ipython3",
   "version": "3.6.4"
  }
 },
 "nbformat": 4,
 "nbformat_minor": 2
}
